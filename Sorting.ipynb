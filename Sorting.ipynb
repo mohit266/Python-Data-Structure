{
 "cells": [
  {
   "cell_type": "markdown",
   "metadata": {},
   "source": [
    "# Bubble Sort"
   ]
  },
  {
   "cell_type": "code",
   "execution_count": 74,
   "metadata": {},
   "outputs": [],
   "source": [
    "def bubble_sort(arr):\n",
    "    for n in range(len(arr)-1,0,-1):\n",
    "#         print(\"This is the n \",n)\n",
    "        for k in range(n):\n",
    "#             print(\"This is the index check k\",k)\n",
    "            if arr[k]>arr[k+1]:\n",
    "                arr[k],arr[k+1] = arr[k+1],arr[k]\n",
    "    return arr"
   ]
  },
  {
   "cell_type": "code",
   "execution_count": 50,
   "metadata": {},
   "outputs": [],
   "source": [
    "arr = [9, 76, 867, 5, 15, 28, 1202]"
   ]
  },
  {
   "cell_type": "code",
   "execution_count": 51,
   "metadata": {},
   "outputs": [
    {
     "name": "stdout",
     "output_type": "stream",
     "text": [
      "This is the n  6\n",
      "This is the index check k 0\n",
      "This is the index check k 1\n",
      "This is the index check k 2\n",
      "This is the index check k 3\n",
      "This is the index check k 4\n",
      "This is the index check k 5\n",
      "This is the n  5\n",
      "This is the index check k 0\n",
      "This is the index check k 1\n",
      "This is the index check k 2\n",
      "This is the index check k 3\n",
      "This is the index check k 4\n",
      "This is the n  4\n",
      "This is the index check k 0\n",
      "This is the index check k 1\n",
      "This is the index check k 2\n",
      "This is the index check k 3\n",
      "This is the n  3\n",
      "This is the index check k 0\n",
      "This is the index check k 1\n",
      "This is the index check k 2\n",
      "This is the n  2\n",
      "This is the index check k 0\n",
      "This is the index check k 1\n",
      "This is the n  1\n",
      "This is the index check k 0\n"
     ]
    },
    {
     "data": {
      "text/plain": [
       "[5, 9, 15, 28, 76, 867, 1202]"
      ]
     },
     "execution_count": 51,
     "metadata": {},
     "output_type": "execute_result"
    }
   ],
   "source": [
    "bubble_sort(arr)"
   ]
  },
  {
   "cell_type": "markdown",
   "metadata": {},
   "source": [
    "# Selection Sort"
   ]
  },
  {
   "cell_type": "code",
   "execution_count": 52,
   "metadata": {},
   "outputs": [],
   "source": [
    "def selection_sort(arr):\n",
    "    for n in range(len(arr)-1,0,-1):\n",
    "        positionOfMax = 0\n",
    "        for i in range(1,n+1):\n",
    "            if arr[i]>arr[positionOfMax]:\n",
    "                positionOfMax = i\n",
    "        arr[n], arr[positionOfMax] = arr[positionOfMax], arr[n]\n",
    "    return arr"
   ]
  },
  {
   "cell_type": "code",
   "execution_count": 53,
   "metadata": {},
   "outputs": [],
   "source": [
    "arr = [12,56,25,300,56,78,1,99]"
   ]
  },
  {
   "cell_type": "code",
   "execution_count": 54,
   "metadata": {},
   "outputs": [
    {
     "data": {
      "text/plain": [
       "[1, 12, 25, 56, 56, 78, 99, 300]"
      ]
     },
     "execution_count": 54,
     "metadata": {},
     "output_type": "execute_result"
    }
   ],
   "source": [
    "selection_sort(arr)"
   ]
  },
  {
   "cell_type": "markdown",
   "metadata": {},
   "source": [
    "# Insertion Sort"
   ]
  },
  {
   "cell_type": "code",
   "execution_count": 55,
   "metadata": {},
   "outputs": [],
   "source": [
    "def insertion_sort(arr):\n",
    "    for i in range(1, len(arr)):\n",
    "        current_value = arr[i]\n",
    "        position = i\n",
    "        \n",
    "        while position>0 and arr[position-1]>current_value:\n",
    "            arr[position] = arr[position-1]\n",
    "            position = position-1\n",
    "        \n",
    "        arr[position] = current_value\n",
    "        \n",
    "    return arr"
   ]
  },
  {
   "cell_type": "code",
   "execution_count": 56,
   "metadata": {},
   "outputs": [],
   "source": [
    "arr = [12,200,56,125,50,16,78,198,99]"
   ]
  },
  {
   "cell_type": "code",
   "execution_count": 57,
   "metadata": {},
   "outputs": [
    {
     "data": {
      "text/plain": [
       "[12, 16, 50, 56, 78, 99, 125, 198, 200]"
      ]
     },
     "execution_count": 57,
     "metadata": {},
     "output_type": "execute_result"
    }
   ],
   "source": [
    "insertion_sort(arr)"
   ]
  },
  {
   "cell_type": "markdown",
   "metadata": {},
   "source": [
    "# Shell Sort"
   ]
  },
  {
   "cell_type": "code",
   "execution_count": 58,
   "metadata": {},
   "outputs": [],
   "source": [
    "def shell_sort(arr):\n",
    "    sublistcount = len(arr)//2\n",
    "    \n",
    "    while sublistcount > 0:\n",
    "        for start in range(sublistcount):\n",
    "            gap_insertion_sort(arr, start, sublistcount)\n",
    "        \n",
    "        sublistcount = sublistcount//2\n",
    "        \n",
    "def gap_insertion_sort(arr, start, gap):\n",
    "    for i in range(start+gap,len(arr),gap):\n",
    "        current_value = arr[i]\n",
    "        position = i\n",
    "        \n",
    "        while position>=gap and arr[position-gap]>current_value:\n",
    "            arr[position] = arr[position-gap]\n",
    "            position = position - gap\n",
    "            \n",
    "        arr[position] = current_value    \n",
    "        "
   ]
  },
  {
   "cell_type": "code",
   "execution_count": 59,
   "metadata": {},
   "outputs": [],
   "source": [
    "arr = [101, 33, 121, 25,22,37,444,57]"
   ]
  },
  {
   "cell_type": "code",
   "execution_count": 60,
   "metadata": {},
   "outputs": [],
   "source": [
    "shell_sort(arr)"
   ]
  },
  {
   "cell_type": "code",
   "execution_count": 61,
   "metadata": {},
   "outputs": [
    {
     "data": {
      "text/plain": [
       "[22, 25, 33, 37, 57, 101, 121, 444]"
      ]
     },
     "execution_count": 61,
     "metadata": {},
     "output_type": "execute_result"
    }
   ],
   "source": [
    "arr"
   ]
  },
  {
   "cell_type": "code",
   "execution_count": 75,
   "metadata": {},
   "outputs": [
    {
     "name": "stdout",
     "output_type": "stream",
     "text": [
      "4 µs ± 81.6 ns per loop (mean ± std. dev. of 7 runs, 100000 loops each)\n",
      "2.79 µs ± 6 ns per loop (mean ± std. dev. of 7 runs, 100000 loops each)\n",
      "3.02 µs ± 6.2 ns per loop (mean ± std. dev. of 7 runs, 100000 loops each)\n",
      "3.4 µs ± 5.06 ns per loop (mean ± std. dev. of 7 runs, 100000 loops each)\n"
     ]
    }
   ],
   "source": [
    "%timeit bubble_sort([1080,243,764,50,100,67,8])\n",
    "%timeit selection_sort([1080,243,764,50,100,67,8])\n",
    "%timeit insertion_sort([1080,243,764,50,100,67,8])\n",
    "%timeit shell_sort([1080,243,764,50,100,67,8])"
   ]
  },
  {
   "cell_type": "markdown",
   "metadata": {},
   "source": [
    "# Merge Sort"
   ]
  },
  {
   "cell_type": "code",
   "execution_count": 36,
   "metadata": {},
   "outputs": [],
   "source": [
    "def merge_sort(arr):\n",
    "    if len(arr)>1:\n",
    "        mid = len(arr)//2\n",
    "        lefthalf = arr[:mid]\n",
    "        righthalf = arr[mid:]\n",
    "        merge_sort(lefthalf)\n",
    "        merge_sort(righthalf)\n",
    "    \n",
    "        i=0 # LEFT HALF TRACKER\n",
    "        j=0 # RIGHT HALF TRACKER\n",
    "        k=0 # FINAL ARRAY TRACKER\n",
    "        while i<len(lefthalf) and j < len(righthalf):\n",
    "            if lefthalf[i] < righthalf[j]:\n",
    "                arr[k] = lefthalf[i]\n",
    "                i += 1\n",
    "            else:\n",
    "                arr[k] = righthalf[j]\n",
    "                j += 1\n",
    "            \n",
    "            k += 1\n",
    "        \n",
    "        while i<len(lefthalf):\n",
    "            arr[k] = lefthalf[i]\n",
    "            i += 1\n",
    "            k += 1\n",
    "        \n",
    "        while j < len(righthalf):\n",
    "            arr[k] = righthalf[j]\n",
    "            j += 1\n",
    "            k += 1\n",
    "    return arr"
   ]
  },
  {
   "cell_type": "code",
   "execution_count": 37,
   "metadata": {},
   "outputs": [],
   "source": [
    "arr = [101, 33, 121, 25,22,37,444,57]"
   ]
  },
  {
   "cell_type": "code",
   "execution_count": 38,
   "metadata": {},
   "outputs": [
    {
     "data": {
      "text/plain": [
       "[22, 25, 33, 37, 57, 101, 121, 444]"
      ]
     },
     "execution_count": 38,
     "metadata": {},
     "output_type": "execute_result"
    }
   ],
   "source": [
    "merge_sort(arr)"
   ]
  },
  {
   "cell_type": "markdown",
   "metadata": {},
   "source": [
    "# Quick Sort"
   ]
  },
  {
   "cell_type": "code",
   "execution_count": 42,
   "metadata": {},
   "outputs": [],
   "source": [
    "def quick_sort(arr):\n",
    "    quick_sort_help(arr,0,len(arr)-1)\n",
    "    \n",
    "def quick_sort_help(arr, first, last):\n",
    "    if first<last:\n",
    "        splitpoint = partition(arr,first,last)\n",
    "        \n",
    "        quick_sort_help(arr,first,splitpoint-1)\n",
    "        quick_sort_help(arr,splitpoint+1,last)\n",
    "        \n",
    "def partition(arr,first,last):\n",
    "    pivotvalue = arr[first]\n",
    "    leftmark = first+1\n",
    "    rightmark = last\n",
    "    \n",
    "    done = False\n",
    "    \n",
    "    while not done:\n",
    "        while leftmark <= rightmark and arr[leftmark] <= pivotvalue:\n",
    "            leftmark = leftmark+1\n",
    "        while rightmark >= leftmark and arr[rightmark] >= pivotvalue:\n",
    "            rightmark -= 1\n",
    "            \n",
    "        if rightmark < leftmark:\n",
    "            done = True\n",
    "            \n",
    "        else:\n",
    "            arr[leftmark], arr[rightmark] = arr[rightmark], arr[leftmark]\n",
    "            \n",
    "    arr[first], arr[rightmark] = arr[rightmark], arr[first]\n",
    "    \n",
    "    return rightmark\n",
    "            \n",
    "            "
   ]
  },
  {
   "cell_type": "code",
   "execution_count": 43,
   "metadata": {},
   "outputs": [],
   "source": [
    "arr = [101, 33, 121, 25,22,37,444,57]"
   ]
  },
  {
   "cell_type": "code",
   "execution_count": 44,
   "metadata": {},
   "outputs": [],
   "source": [
    "quick_sort(arr)"
   ]
  },
  {
   "cell_type": "code",
   "execution_count": 45,
   "metadata": {},
   "outputs": [
    {
     "data": {
      "text/plain": [
       "[22, 25, 33, 37, 57, 101, 121, 444]"
      ]
     },
     "execution_count": 45,
     "metadata": {},
     "output_type": "execute_result"
    }
   ],
   "source": [
    "arr"
   ]
  },
  {
   "cell_type": "code",
   "execution_count": null,
   "metadata": {},
   "outputs": [],
   "source": []
  }
 ],
 "metadata": {
  "kernelspec": {
   "display_name": "Python 3",
   "language": "python",
   "name": "python3"
  },
  "language_info": {
   "codemirror_mode": {
    "name": "ipython",
    "version": 3
   },
   "file_extension": ".py",
   "mimetype": "text/x-python",
   "name": "python",
   "nbconvert_exporter": "python",
   "pygments_lexer": "ipython3",
   "version": "3.8.2"
  }
 },
 "nbformat": 4,
 "nbformat_minor": 4
}
